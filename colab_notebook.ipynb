{
  "nbformat": 4,
  "nbformat_minor": 0,
  "metadata": {
    "colab": {
      "name": "Untitled0.ipynb",
      "version": "0.3.2",
      "views": {},
      "default_view": {},
      "provenance": [],
      "private_outputs": true,
      "collapsed_sections": []
    },
    "kernelspec": {
      "name": "python3",
      "display_name": "Python 3"
    },
    "accelerator": "GPU"
  },
  "cells": [
    {
      "metadata": {
        "id": "34nOXo2AOcMi",
        "colab_type": "code",
        "colab": {
          "autoexec": {
            "startup": false,
            "wait_interval": 0
          }
        }
      },
      "cell_type": "code",
      "source": [
        "!pip3 install tensorflow-gpu==1.4.0\n",
        "!apt install imagemagick"
      ],
      "execution_count": 0,
      "outputs": []
    },
    {
      "metadata": {
        "id": "-7yXzELZcdt6",
        "colab_type": "text"
      },
      "cell_type": "markdown",
      "source": [
        "### Clone the repo"
      ]
    },
    {
      "metadata": {
        "id": "e9jB6M1-UXge",
        "colab_type": "code",
        "colab": {
          "autoexec": {
            "startup": false,
            "wait_interval": 0
          }
        }
      },
      "cell_type": "code",
      "source": [
        "import os\n",
        "\n",
        "os.chdir('/content/')\n",
        "\n",
        "!if [ ! -e ~/work ]; then git clone https://github.com/ericpts/CycleGAN-TensorFlow ~/work; fi\n",
        "\n",
        "os.chdir('/content/work')\n",
        "\n",
        "! git fetch origin master\n",
        "! git reset --hard origin/master"
      ],
      "execution_count": 0,
      "outputs": []
    },
    {
      "metadata": {
        "id": "BVIlwKYBPqc7",
        "colab_type": "code",
        "colab": {
          "autoexec": {
            "startup": false,
            "wait_interval": 0
          }
        }
      },
      "cell_type": "code",
      "source": [
        "!./init.py"
      ],
      "execution_count": 0,
      "outputs": []
    },
    {
      "metadata": {
        "id": "vEZWa1R3VTCA",
        "colab_type": "code",
        "colab": {
          "autoexec": {
            "startup": false,
            "wait_interval": 0
          }
        }
      },
      "cell_type": "code",
      "source": [
        "!python3 ./build_data.py --X_input_dir data/comp/trainA --X_output_file data/tfrecords/black.tfrecords --Y_input_dir data/comp/trainB --Y_output_file data/tfrecords/colored.tfrecords"
      ],
      "execution_count": 0,
      "outputs": []
    },
    {
      "metadata": {
        "id": "Ou5NhvGfUDBl",
        "colab_type": "text"
      },
      "cell_type": "markdown",
      "source": [
        "## Install a Drive FUSE wrapper, authenticate, and mount a Drive filesystem"
      ]
    },
    {
      "metadata": {
        "id": "38xcdW38T7bO",
        "colab_type": "code",
        "colab": {
          "autoexec": {
            "startup": false,
            "wait_interval": 0
          }
        }
      },
      "cell_type": "code",
      "source": [
        "  # Install a Drive FUSE wrapper.\n",
        "# https://github.com/astrada/google-drive-ocamlfuse\n",
        "!apt-get install -y -qq software-properties-common python-software-properties module-init-tools\n",
        "!add-apt-repository -y ppa:alessandro-strada/ppa 2>&1 > /dev/null\n",
        "!apt-get update -qq 2>&1 > /dev/null\n",
        "!apt-get -y install -qq google-drive-ocamlfuse fuse"
      ],
      "execution_count": 0,
      "outputs": []
    },
    {
      "metadata": {
        "id": "G6PUw_uRUF07",
        "colab_type": "code",
        "colab": {
          "autoexec": {
            "startup": false,
            "wait_interval": 0
          }
        }
      },
      "cell_type": "code",
      "source": [
        "# Generate auth tokens for Colab\n",
        "from google.colab import auth\n",
        "auth.authenticate_user()"
      ],
      "execution_count": 0,
      "outputs": []
    },
    {
      "metadata": {
        "id": "tmn19fqTUI2f",
        "colab_type": "code",
        "colab": {
          "autoexec": {
            "startup": false,
            "wait_interval": 0
          }
        }
      },
      "cell_type": "code",
      "source": [
        "# Generate creds for the Drive FUSE library.\n",
        "from oauth2client.client import GoogleCredentials\n",
        "creds = GoogleCredentials.get_application_default()\n",
        "import getpass\n",
        "!google-drive-ocamlfuse -headless -id={creds.client_id} -secret={creds.client_secret} < /dev/null 2>&1 | grep URL\n",
        "vcode = getpass.getpass()\n",
        "!echo {vcode} | google-drive-ocamlfuse -headless -id={creds.client_id} -secret={creds.client_secret}"
      ],
      "execution_count": 0,
      "outputs": []
    },
    {
      "metadata": {
        "id": "1AT_BJb_UMEQ",
        "colab_type": "code",
        "colab": {
          "autoexec": {
            "startup": false,
            "wait_interval": 0
          }
        }
      },
      "cell_type": "code",
      "source": [
        "# Create a directory and mount Google Drive using that directory.\n",
        "!mkdir -p ~/drive\n",
        "!google-drive-ocamlfuse ~/drive\n",
        "!mkdir -p /content/drive/checkpoints\n",
        "!if [ -e /content/work/checkpoints ]; then unlink /content/work/checkpoints; fi\n",
        "!ln -sf /content/drive/checkpoints /content/work/checkpoints"
      ],
      "execution_count": 0,
      "outputs": []
    },
    {
      "metadata": {
        "id": "ENk8A06Li994",
        "colab_type": "code",
        "colab": {
          "autoexec": {
            "startup": false,
            "wait_interval": 0
          }
        }
      },
      "cell_type": "code",
      "source": [
        "import subprocess\n",
        "import os\n",
        "datetime=subprocess.check_output(['ls', 'checkpoints']).decode('utf-8').strip()\n",
        "os.environ['DATETIME']=datetime"
      ],
      "execution_count": 0,
      "outputs": []
    },
    {
      "metadata": {
        "id": "oiF7tLNHktV-",
        "colab_type": "code",
        "colab": {
          "autoexec": {
            "startup": false,
            "wait_interval": 0
          }
        }
      },
      "cell_type": "code",
      "source": [
        "!ls checkpoints/$DATETIME"
      ],
      "execution_count": 0,
      "outputs": []
    },
    {
      "metadata": {
        "id": "qu5pU__aUXXm",
        "colab_type": "text"
      },
      "cell_type": "markdown",
      "source": [
        "## Train the network"
      ]
    },
    {
      "metadata": {
        "id": "m53yIKbmX9D3",
        "colab_type": "code",
        "colab": {
          "autoexec": {
            "startup": false,
            "wait_interval": 0
          }
        }
      },
      "cell_type": "code",
      "source": [
        "!python3 train.py --X data/tfrecords/black.tfrecords --Y data/tfrecords/colored.tfrecords --load_model $DATETIME"
      ],
      "execution_count": 0,
      "outputs": []
    },
    {
      "metadata": {
        "id": "NoCOMaIADg7N",
        "colab_type": "text"
      },
      "cell_type": "markdown",
      "source": [
        "## Generate a sample image"
      ]
    },
    {
      "metadata": {
        "id": "LkM203RoDi2e",
        "colab_type": "code",
        "colab": {
          "autoexec": {
            "startup": false,
            "wait_interval": 0
          }
        }
      },
      "cell_type": "code",
      "source": [
        "!python3 export_graph.py --checkpoint_dir checkpoints/$DATETIME \\\n",
        "                          --XtoY_model bw2color.pb \\\n",
        "                          --YtoX_model color2bw.pb \\\n",
        "                          --image_size 256"
      ],
      "execution_count": 0,
      "outputs": []
    },
    {
      "metadata": {
        "id": "qcv8RvDPFJDG",
        "colab_type": "text"
      },
      "cell_type": "markdown",
      "source": [
        "## Color a sample picture"
      ]
    },
    {
      "metadata": {
        "id": "EPXigv2JFN5C",
        "colab_type": "code",
        "colab": {
          "autoexec": {
            "startup": false,
            "wait_interval": 0
          }
        }
      },
      "cell_type": "code",
      "source": [
        "!wget https://images.pexels.com/photos/285286/pexels-photo-285286.jpeg -O /tmp/in.jpg\n",
        "  \n",
        "!python3 inference.py --model pretrained/bw2color.pb \\\n",
        "                     --input /tmp/in.jpg \\\n",
        "                     --output ~/drive/output_sample.jpg \\\n",
        "                     --image_size 256"
      ],
      "execution_count": 0,
      "outputs": []
    }
  ]
}